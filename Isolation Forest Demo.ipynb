{
 "cells": [
  {
   "cell_type": "markdown",
   "metadata": {},
   "source": [
    "## Isolation Forest"
   ]
  },
  {
   "cell_type": "markdown",
   "metadata": {},
   "source": [
    "This is a demo to show my implementation of isolation forest based on [this paper](https://cs.nju.edu.cn/zhouzh/zhouzh.files/publication/icdm08b.pdf)\n",
    "\n",
    "> F. T. Liu, K. M. Ting and Z. Zhou, \"Isolation Forest,\" 2008 Eighth IEEE International Conference on Data Mining, Pisa, 2008, pp. 413-422.\n",
    "\n",
    "Isolation forests are used for anamoly detection and the idea is based on the observation that anomalies have distinctive quantitative properties:\n",
    "\n",
    "1. they are the minority consisting of fewer instances\n",
    "2. they have attribute-values that are very different from those of normal instances"
   ]
  },
  {
   "cell_type": "code",
   "execution_count": 1,
   "metadata": {},
   "outputs": [],
   "source": [
    "import numpy as np\n",
    "from isolation_forest import IsolationForest"
   ]
  },
  {
   "cell_type": "markdown",
   "metadata": {},
   "source": [
    "### The Dataset"
   ]
  },
  {
   "cell_type": "markdown",
   "metadata": {},
   "source": [
    "As an example we will use the `Mulcross` dataset for anomaly detection. The data is generated from a synthetic data generator. It can be downloaded from [OpenML](https://www.openml.org/d/40897). \n",
    "\n",
    "The dataset has four numnerical features V1, V2, V3 V4 and a target variable that is either \"Normal\" or \"Anomaly\". The \"Anomaly\" class represents only 10% of total samples. We will use this target variable to calculate the accuracy and AUC score of the isolation forest."
   ]
  },
  {
   "cell_type": "code",
   "execution_count": 2,
   "metadata": {},
   "outputs": [],
   "source": [
    "import matplotlib.pyplot as plt\n",
    "from matplotlib.ticker import PercentFormatter\n",
    "import numpy as np\n",
    "import pandas as pd"
   ]
  },
  {
   "cell_type": "markdown",
   "metadata": {},
   "source": [
    "Let's load the data into a Panda dataframe"
   ]
  },
  {
   "cell_type": "code",
   "execution_count": 3,
   "metadata": {},
   "outputs": [
    {
     "data": {
      "text/html": [
       "<div>\n",
       "<style scoped>\n",
       "    .dataframe tbody tr th:only-of-type {\n",
       "        vertical-align: middle;\n",
       "    }\n",
       "\n",
       "    .dataframe tbody tr th {\n",
       "        vertical-align: top;\n",
       "    }\n",
       "\n",
       "    .dataframe thead th {\n",
       "        text-align: right;\n",
       "    }\n",
       "</style>\n",
       "<table border=\"1\" class=\"dataframe\">\n",
       "  <thead>\n",
       "    <tr style=\"text-align: right;\">\n",
       "      <th></th>\n",
       "      <th>V1</th>\n",
       "      <th>V2</th>\n",
       "      <th>V3</th>\n",
       "      <th>V4</th>\n",
       "      <th>Target</th>\n",
       "    </tr>\n",
       "  </thead>\n",
       "  <tbody>\n",
       "    <tr>\n",
       "      <td>0</td>\n",
       "      <td>-0.203950</td>\n",
       "      <td>0.363011</td>\n",
       "      <td>1.013766</td>\n",
       "      <td>0.187131</td>\n",
       "      <td>'Normal'</td>\n",
       "    </tr>\n",
       "    <tr>\n",
       "      <td>1</td>\n",
       "      <td>-0.761118</td>\n",
       "      <td>2.436424</td>\n",
       "      <td>0.681846</td>\n",
       "      <td>0.654366</td>\n",
       "      <td>'Normal'</td>\n",
       "    </tr>\n",
       "    <tr>\n",
       "      <td>2</td>\n",
       "      <td>-0.209979</td>\n",
       "      <td>1.131098</td>\n",
       "      <td>-0.282180</td>\n",
       "      <td>-0.202210</td>\n",
       "      <td>'Normal'</td>\n",
       "    </tr>\n",
       "    <tr>\n",
       "      <td>3</td>\n",
       "      <td>0.836812</td>\n",
       "      <td>0.650342</td>\n",
       "      <td>-0.426900</td>\n",
       "      <td>-0.305281</td>\n",
       "      <td>'Normal'</td>\n",
       "    </tr>\n",
       "    <tr>\n",
       "      <td>4</td>\n",
       "      <td>0.454204</td>\n",
       "      <td>1.560128</td>\n",
       "      <td>-0.204841</td>\n",
       "      <td>0.219233</td>\n",
       "      <td>'Normal'</td>\n",
       "    </tr>\n",
       "    <tr>\n",
       "      <td>...</td>\n",
       "      <td>...</td>\n",
       "      <td>...</td>\n",
       "      <td>...</td>\n",
       "      <td>...</td>\n",
       "      <td>...</td>\n",
       "    </tr>\n",
       "    <tr>\n",
       "      <td>262139</td>\n",
       "      <td>-0.699533</td>\n",
       "      <td>-1.110000</td>\n",
       "      <td>-0.084369</td>\n",
       "      <td>-0.575921</td>\n",
       "      <td>'Normal'</td>\n",
       "    </tr>\n",
       "    <tr>\n",
       "      <td>262140</td>\n",
       "      <td>-1.972119</td>\n",
       "      <td>0.965250</td>\n",
       "      <td>-0.240917</td>\n",
       "      <td>0.463352</td>\n",
       "      <td>'Normal'</td>\n",
       "    </tr>\n",
       "    <tr>\n",
       "      <td>262141</td>\n",
       "      <td>-0.327949</td>\n",
       "      <td>-1.702591</td>\n",
       "      <td>-0.031113</td>\n",
       "      <td>-0.759623</td>\n",
       "      <td>'Normal'</td>\n",
       "    </tr>\n",
       "    <tr>\n",
       "      <td>262142</td>\n",
       "      <td>-2.080999</td>\n",
       "      <td>-0.185966</td>\n",
       "      <td>-0.518695</td>\n",
       "      <td>-0.829814</td>\n",
       "      <td>'Normal'</td>\n",
       "    </tr>\n",
       "    <tr>\n",
       "      <td>262143</td>\n",
       "      <td>-0.828776</td>\n",
       "      <td>-1.202266</td>\n",
       "      <td>0.592979</td>\n",
       "      <td>-0.469042</td>\n",
       "      <td>'Normal'</td>\n",
       "    </tr>\n",
       "  </tbody>\n",
       "</table>\n",
       "<p>262144 rows × 5 columns</p>\n",
       "</div>"
      ],
      "text/plain": [
       "              V1        V2        V3        V4    Target\n",
       "0      -0.203950  0.363011  1.013766  0.187131  'Normal'\n",
       "1      -0.761118  2.436424  0.681846  0.654366  'Normal'\n",
       "2      -0.209979  1.131098 -0.282180 -0.202210  'Normal'\n",
       "3       0.836812  0.650342 -0.426900 -0.305281  'Normal'\n",
       "4       0.454204  1.560128 -0.204841  0.219233  'Normal'\n",
       "...          ...       ...       ...       ...       ...\n",
       "262139 -0.699533 -1.110000 -0.084369 -0.575921  'Normal'\n",
       "262140 -1.972119  0.965250 -0.240917  0.463352  'Normal'\n",
       "262141 -0.327949 -1.702591 -0.031113 -0.759623  'Normal'\n",
       "262142 -2.080999 -0.185966 -0.518695 -0.829814  'Normal'\n",
       "262143 -0.828776 -1.202266  0.592979 -0.469042  'Normal'\n",
       "\n",
       "[262144 rows x 5 columns]"
      ]
     },
     "execution_count": 3,
     "metadata": {},
     "output_type": "execute_result"
    }
   ],
   "source": [
    "data = pd.read_csv('mulcross.csv')\n",
    "data"
   ]
  },
  {
   "cell_type": "markdown",
   "metadata": {},
   "source": [
    "We can plot a histogram to see the distribution of classes"
   ]
  },
  {
   "cell_type": "code",
   "execution_count": 4,
   "metadata": {},
   "outputs": [
    {
     "data": {
      "image/png": "[encoded data removed]",
      "text/plain": [
       "<Figure size 432x288 with 1 Axes>"
      ]
     },
     "metadata": {
      "needs_background": "light"
     },
     "output_type": "display_data"
    },
    {
     "data": {
      "image/png": "[encoded data removed]",
      "text/plain": [
       "<Figure size 432x288 with 1 Axes>"
      ]
     },
     "metadata": {
      "needs_background": "light"
     },
     "output_type": "display_data"
    }
   ],
   "source": [
    "_ = plt.hist(data['Target'])\n",
    "plt.title('Histogram of Target by Total Number of Instances')\n",
    "plt.ylabel('Number of Instances')\n",
    "plt.xlabel('Class')\n",
    "plt.show()\n",
    "\n",
    "plt.hist(data['Target'], weights=np.ones(len(data)) / len(data))\n",
    "plt.gca().yaxis.set_major_formatter(PercentFormatter(1))\n",
    "plt.title('Histogram of Target by Percentage')\n",
    "plt.ylabel('Percentage of Instances')\n",
    "plt.xlabel('Class')\n",
    "plt.show()"
   ]
  },
  {
   "cell_type": "markdown",
   "metadata": {},
   "source": [
    "### Training Stage: Building the Isolation Forest"
   ]
  },
  {
   "cell_type": "code",
   "execution_count": 4,
   "metadata": {},
   "outputs": [
    {
     "name": "stdout",
     "output_type": "stream",
     "text": [
      "(262144, 4)\n",
      "(262144,)\n"
     ]
    }
   ],
   "source": [
    "# convent dataframe to numpy array\n",
    "X = data[['V1','V2','V3', 'V4']].values\n",
    "y = data['Target'].values\n",
    "\n",
    "print(X.shape)\n",
    "print(y.shape)"
   ]
  },
  {
   "cell_type": "markdown",
   "metadata": {},
   "source": [
    "build an isolation forest with 100 trees and a maximum subsampling size of 256"
   ]
  },
  {
   "cell_type": "code",
   "execution_count": 5,
   "metadata": {},
   "outputs": [],
   "source": [
    "m = 100\n",
    "sub_sampling_size = 256"
   ]
  },
  {
   "cell_type": "code",
   "execution_count": 6,
   "metadata": {},
   "outputs": [
    {
     "data": {
      "text/plain": [
       "100"
      ]
     },
     "execution_count": 6,
     "metadata": {},
     "output_type": "execute_result"
    }
   ],
   "source": [
    "isolation_forest = IsolationForest().fit(X, m=m, sub_sampling_size=sub_sampling_size)\n",
    "len(isolation_forest)"
   ]
  },
  {
   "cell_type": "markdown",
   "metadata": {},
   "source": [
    "### Evaluation Stage: Detection Anomalies"
   ]
  },
  {
   "cell_type": "markdown",
   "metadata": {},
   "source": [
    "In order to detect anomalies, we calculate the average `Path Length` of each instance in the forest.\n",
    "Simply we calculate the `Path Length` over every tree then take the average.\n",
    "Later this value is converted to a score."
   ]
  },
  {
   "cell_type": "code",
   "execution_count": 7,
   "metadata": {},
   "outputs": [],
   "source": [
    "def c(n):\n",
    "    return 2.0*(np.log(n-1)+0.5772156649)-(2*(n-1.0)/n)"
   ]
  },
  {
   "cell_type": "markdown",
   "metadata": {},
   "source": [
    "`size` function returns the number of nodes in a tree"
   ]
  },
  {
   "cell_type": "code",
   "execution_count": 8,
   "metadata": {},
   "outputs": [],
   "source": [
    "def size(node):\n",
    "    if node is None:\n",
    "        return 0\n",
    "    else:\n",
    "        return max(size(node.left), size(node.right)) + 1"
   ]
  },
  {
   "cell_type": "markdown",
   "metadata": {},
   "source": [
    "`pathLength` function calculates the path length in a single tree"
   ]
  },
  {
   "cell_type": "code",
   "execution_count": 22,
   "metadata": {},
   "outputs": [],
   "source": [
    "def pathLength(x, tree, size):\n",
    "    #if tree is an external node then return c(T.size)\n",
    "    if tree.cutoff_id is None:\n",
    "        return  c(size)\n",
    "    else:\n",
    "        if x[tree.cutoff_id] < tree.cutoff_val:\n",
    "            return pathLength(x, tree.left, size) + 1\n",
    "        else:\n",
    "            return pathLength(x, tree.right, size) + 1"
   ]
  },
  {
   "cell_type": "markdown",
   "metadata": {},
   "source": [
    "`averagePathLength` function calculates the path length in the entire forest"
   ]
  },
  {
   "cell_type": "code",
   "execution_count": 12,
   "metadata": {},
   "outputs": [],
   "source": [
    "def averagePathLength(x, forest):\n",
    "    path_length = 0\n",
    "    for i in range(m):\n",
    "        curr_len = pathLength(x, forest[i], size(forest[i]))\n",
    "        path_length += curr_len\n",
    "    return  path_length /m"
   ]
  },
  {
   "cell_type": "markdown",
   "metadata": {},
   "source": [
    "The average path length is converted into a score between [0,1]. According to the original paper\n",
    "\n",
    "(a) if instances return s very close to 1, then they are definitely anomalies\n",
    "\n",
    "(b) if instances have s much smaller than 0.5, then they are quite safe to be regarded as normal instances\n",
    "\n",
    "(c) if all the instances return s $\\approx$ 0.5, then the entire sample does not really have any distinct anomaly."
   ]
  },
  {
   "cell_type": "code",
   "execution_count": 23,
   "metadata": {},
   "outputs": [],
   "source": [
    "def score(value, n):\n",
    "    \"\"\"\n",
    "    value: average path length\n",
    "    n: number of training instances\n",
    "    \"\"\"\n",
    "    \n",
    "    return 2 ** (-value/c(n))"
   ]
  },
  {
   "cell_type": "code",
   "execution_count": 24,
   "metadata": {},
   "outputs": [],
   "source": [
    "def predict(isolation_forest, xTr):\n",
    "    n, _ = xTr.shape\n",
    "    predictions = np.zeros(n)\n",
    "    for i in range(n):\n",
    "        avg_len = averagePathLength(xTr[i], isolation_forest)\n",
    "        predictions[i] = score(avg_len, n)\n",
    "    return predictions"
   ]
  },
  {
   "cell_type": "markdown",
   "metadata": {},
   "source": [
    "### AUC Score"
   ]
  },
  {
   "cell_type": "code",
   "execution_count": 47,
   "metadata": {},
   "outputs": [],
   "source": [
    "from sklearn.metrics import roc_curve, auc\n",
    "from sklearn.model_selection import StratifiedShuffleSplit"
   ]
  },
  {
   "cell_type": "code",
   "execution_count": 85,
   "metadata": {},
   "outputs": [
    {
     "data": {
      "text/plain": [
       "26215"
      ]
     },
     "execution_count": 85,
     "metadata": {},
     "output_type": "execute_result"
    }
   ],
   "source": [
    "y_binary = np.array([1 if y_i == \"'Anomaly'\" else 0for y_i in y])\n",
    "sss = StratifiedShuffleSplit(n_splits=1, test_size=0.1, random_state=0)\n",
    "_, test_index = next(sss.split(X, y))\n",
    "len(test_index)"
   ]
  },
  {
   "cell_type": "code",
   "execution_count": 86,
   "metadata": {},
   "outputs": [
    {
     "data": {
      "text/plain": [
       "array([0.76040529, 0.76040529, 0.76040529, ..., 0.76040529, 0.76040529,\n",
       "       0.76040529])"
      ]
     },
     "execution_count": 86,
     "metadata": {},
     "output_type": "execute_result"
    }
   ],
   "source": [
    "predictions = predict(isolation_forest, X[test_index])\n",
    "predictions"
   ]
  },
  {
   "cell_type": "code",
   "execution_count": 87,
   "metadata": {},
   "outputs": [],
   "source": [
    "# Compute ROC curve and ROC area\n",
    "fpr, tpr, _ = roc_curve(y_binary[test_index], predictions)\n",
    "roc_auc = auc(fpr, tpr)"
   ]
  },
  {
   "cell_type": "code",
   "execution_count": 88,
   "metadata": {},
   "outputs": [
    {
     "data": {
      "image/png": "[encoded data removed]",
      "text/plain": [
       "<Figure size 432x288 with 1 Axes>"
      ]
     },
     "metadata": {
      "needs_background": "light"
     },
     "output_type": "display_data"
    }
   ],
   "source": [
    "plt.figure()\n",
    "lw = 2\n",
    "plt.plot(fpr, tpr, color='darkorange', lw=lw, label='ROC curve (area = %0.2f)' % roc_auc)\n",
    "plt.plot([0, 1], [0, 1], color='navy', lw=lw, linestyle='--')\n",
    "plt.xlim([0.0, 1.0])\n",
    "plt.ylim([0.0, 1.05])\n",
    "plt.xlabel('False Positive Rate')\n",
    "plt.ylabel('True Positive Rate')\n",
    "plt.title('Receiver operating characteristic')\n",
    "plt.legend(loc=\"lower right\")\n",
    "plt.show()"
   ]
  }
 ],
 "metadata": {
  "kernelspec": {
   "display_name": "Python 3",
   "language": "python",
   "name": "python3"
  },
  "language_info": {
   "codemirror_mode": {
    "name": "ipython",
    "version": 3
   },
   "file_extension": ".py",
   "mimetype": "text/x-python",
   "name": "python",
   "nbconvert_exporter": "python",
   "pygments_lexer": "ipython3",
   "version": "3.7.3"
  }
 },
 "nbformat": 4,
 "nbformat_minor": 2
}
