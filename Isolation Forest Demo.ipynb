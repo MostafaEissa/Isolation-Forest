{
 "cells": [
  {
   "cell_type": "markdown",
   "metadata": {},
   "source": [
    "## Isolation Forest"
   ]
  },
  {
   "cell_type": "markdown",
   "metadata": {},
   "source": [
    "This is a demo to show my implementation of isolation forest based on [this paper](https://cs.nju.edu.cn/zhouzh/zhouzh.files/publication/icdm08b.pdf)\n",
    "\n",
    "> F. T. Liu, K. M. Ting and Z. Zhou, \"Isolation Forest,\" 2008 Eighth IEEE International Conference on Data Mining, Pisa, 2008, pp. 413-422.\n",
    "\n",
    "Isolation forests are used for anamoly detection and the idea is based on the observation that anomalies have distinctive quantitative properties:\n",
    "\n",
    "1. they are the minority consisting of fewer instances\n",
    "2. they have attribute-values that are very different from those of normal instances"
   ]
  },
  {
   "cell_type": "code",
   "execution_count": 2,
   "metadata": {},
   "outputs": [],
   "source": [
    "import numpy as np"
   ]
  },
  {
   "cell_type": "code",
   "execution_count": 9,
   "metadata": {},
   "outputs": [],
   "source": [
    "class TreeNode(object):\n",
    "    def __init__(self, left, right, parent, cutoff_id, cutoff_val, prediction):\n",
    "        self.left = left\n",
    "        self.right = right\n",
    "        self.parent = parent\n",
    "        self.cutoff_id = cutoff_id\n",
    "        self.cutoff_val = cutoff_val\n",
    "        self.prediction = prediction"
   ]
  },
  {
   "cell_type": "code",
   "execution_count": 10,
   "metadata": {},
   "outputs": [],
   "source": [
    "def split(xTr,yTr):\n",
    "    N,D = xTr.shape\n",
    "    assert D > 0 # must have at least one dimension\n",
    "    assert N > 1 # must have at least two samples\n",
    "    feature = np.inf\n",
    "    cut = np.inf\n",
    "\n",
    "    # randomly select an attribute\n",
    "    feature = np.random.randint(D)\n",
    "    \n",
    "    # randomly select a cutoff point from max and min values of attribute\n",
    "    f_max = np.max(xTr[:, feature])\n",
    "    f_min = np.max(xTr[:, feature])\n",
    "    cut = (f_max - f_min) *np.random.random_sample() + f_min\n",
    "             \n",
    "    return feature, cut"
   ]
  },
  {
   "cell_type": "code",
   "execution_count": 11,
   "metadata": {},
   "outputs": [],
   "source": [
    "def tree(xTr,yTr,depth=np.inf):\n",
    "    n,d = xTr.shape\n",
    "    \n",
    "    if depth <= 1 or len(set(yTr)) == 1 or (xTr == xTr[0]).all():\n",
    "            return TreeNode(None, None, None, None, None, np.sum(yTr)/n)\n",
    "        \n",
    "    fid,cut = split(xTr,yTr, w)\n",
    "    L_idx = xTr[:,fid] <= cut\n",
    "    R_idx = xTr[:,fid] > cut\n",
    "    tree_L = tree(xTr[L_idx, :], yTr[L_idx], depth-1)\n",
    "    tree_R = tree(xTr[R_idx, :], yTr[R_idx], depth-1)\n",
    "    tree = TreeNode(tree_L, tree_R, None, fid, cut, np.sum(yTr)/n)\n",
    "    tree_L.parent = tree\n",
    "    tree_R.parent = tree\n",
    "    \n",
    "    return tree"
   ]
  },
  {
   "cell_type": "code",
   "execution_count": 12,
   "metadata": {},
   "outputs": [],
   "source": [
    "def forest(xTr, yTr, m, maxdepth=np.inf):\n",
    "    n, d = xTr.shape\n",
    "    trees = []\n",
    "    indices = np.arange(n)\n",
    "    \n",
    "    for i in range(m):\n",
    "        idx = np.random.choice(indices, n, replace=True)\n",
    "        trees.append(cart(xTr[idx,:],yTr[idx],depth=maxdepth))\n",
    "    return trees"
   ]
  },
  {
   "cell_type": "code",
   "execution_count": 17,
   "metadata": {},
   "outputs": [],
   "source": [
    "def c(n):\n",
    "    return 2.0*(np.log(n-1)+0.5772156649)-(2*(n-1.0)/n)"
   ]
  },
  {
   "cell_type": "code",
   "execution_count": 25,
   "metadata": {},
   "outputs": [],
   "source": [
    "def size(node):\n",
    "    if node is None:\n",
    "        return 0\n",
    "    else:\n",
    "        return max(size(node.left), size(node.right)) + 1"
   ]
  },
  {
   "cell_type": "code",
   "execution_count": 13,
   "metadata": {},
   "outputs": [],
   "source": [
    "def pathLength(x, tree, e):\n",
    "    #if tree is an external node then return e + c(T.size)\n",
    "    if node.cutoff_id is None:\n",
    "        return e + c(size(tree))\n",
    "    else:\n",
    "        if x[tree.cutoff_id] < tree.cutoff_val:\n",
    "            return pathLength(x, tree.left, e + 1)\n",
    "        else:\n",
    "            return pathLength(x, T.right, e + 1)"
   ]
  },
  {
   "cell_type": "code",
   "execution_count": null,
   "metadata": {},
   "outputs": [],
   "source": []
  }
 ],
 "metadata": {
  "kernelspec": {
   "display_name": "Python 3",
   "language": "python",
   "name": "python3"
  },
  "language_info": {
   "codemirror_mode": {
    "name": "ipython",
    "version": 3
   },
   "file_extension": ".py",
   "mimetype": "text/x-python",
   "name": "python",
   "nbconvert_exporter": "python",
   "pygments_lexer": "ipython3",
   "version": "3.7.3"
  }
 },
 "nbformat": 4,
 "nbformat_minor": 2
}
